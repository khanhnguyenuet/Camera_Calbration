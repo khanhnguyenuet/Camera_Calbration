{
 "metadata": {
  "language_info": {
   "codemirror_mode": {
    "name": "ipython",
    "version": 3
   },
   "file_extension": ".py",
   "mimetype": "text/x-python",
   "name": "python",
   "nbconvert_exporter": "python",
   "pygments_lexer": "ipython3",
   "version": "3.9.1-final"
  },
  "orig_nbformat": 2,
  "kernelspec": {
   "name": "python3",
   "display_name": "Python 3.9.1 64-bit",
   "metadata": {
    "interpreter": {
     "hash": "dcacb0086e9a4f4eabd41c33bf4faac5ea0a3337ed3f5eff0680afa930572c04"
    }
   }
  }
 },
 "nbformat": 4,
 "nbformat_minor": 2,
 "cells": [
  {
   "cell_type": "code",
   "execution_count": 1,
   "metadata": {},
   "outputs": [],
   "source": [
    "import numpy as np \n",
    "import cv2\n",
    "import glob"
   ]
  },
  {
   "cell_type": "code",
   "execution_count": 2,
   "metadata": {},
   "outputs": [],
   "source": [
    "criteria = (cv2.TERM_CRITERIA_EPS + cv2.TERM_CRITERIA_MAX_ITER, 30, 0.001)\n",
    "objp = np.zeros((54,3), np.float32)\n",
    "objp[:,:2] = np.mgrid[0:9,0:6].T.reshape(-1,2)\n",
    "\n",
    "# Arrays to store object points and image points from all the images.\n",
    "real_points = [] \n",
    "img_points = []"
   ]
  },
  {
   "cell_type": "code",
   "execution_count": 3,
   "metadata": {},
   "outputs": [],
   "source": [
    "images_path = 'D:\\python\\sample\\*.jpg'\n",
    "images = glob.glob(images_path)"
   ]
  },
  {
   "cell_type": "code",
   "execution_count": 4,
   "metadata": {},
   "outputs": [
    {
     "output_type": "stream",
     "name": "stdout",
     "text": [
      "total error: 14.35145029838683\n",
      "total error: 12.942078948440972\n",
      "total error: 12.382487012849298\n",
      "total error: 12.537661946288871\n",
      "total error: 12.237504554974551\n"
     ]
    }
   ],
   "source": [
    "for image in images:\n",
    "    img = cv2.imread(image)\n",
    "    gray = cv2.cvtColor(img, cv2.COLOR_BGR2GRAY)\n",
    "    ret, corners = cv2.findChessboardCorners(gray, (6,9), None)\n",
    "    if ret == True:\n",
    "        real_points.append(objp)\n",
    "        corners2 = cv2.cornerSubPix(gray, corners, (11,11), (-1,-1), criteria)\n",
    "        img_points.append(corners2)\n",
    "\n",
    "        img = cv2.drawChessboardCorners(img, (6,9), corners2, ret)\n",
    "        cv2.imshow('image', img)\n",
    "        cv2.waitKey(0)\n",
    "        cv2.destroyAllWindows()\n",
    "\n",
    "        ret, mtx, dist, rvecs, tvecs = cv2.calibrateCamera(real_points, img_points, gray.shape[::-1],None,None)\n",
    "        img = cv2.imread(image)\n",
    "        result = cv2.undistort(img, mtx, dist)\n",
    "        out = np.hstack((img, result))\n",
    "\n",
    "    error = 0\n",
    "    for i in range(len(real_points)):\n",
    "        points, _ = cv2.projectPoints(real_points[i], rvecs[i], tvecs[i], mtx, dist)\n",
    "        err = cv2.norm(img_points[i], points, cv2.NORM_L2)/len(points)\n",
    "        error += err\n",
    "    print(\"total error: {}\".format(error/len(real_points)))"
   ]
  },
  {
   "cell_type": "code",
   "execution_count": null,
   "metadata": {},
   "outputs": [],
   "source": []
  }
 ]
}